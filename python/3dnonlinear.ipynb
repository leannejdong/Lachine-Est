{
 "cells": [
  {
   "cell_type": "code",
   "execution_count": 1,
   "metadata": {},
   "outputs": [],
   "source": [
    "import numpy as np\n",
    "from scipy.optimize import fsolve"
   ]
  },
  {
   "cell_type": "code",
   "execution_count": 6,
   "metadata": {},
   "outputs": [],
   "source": [
    "n=4; a=3e-9; q=1.0; k=1/16; T=1.0"
   ]
  },
  {
   "cell_type": "code",
   "execution_count": 7,
   "metadata": {},
   "outputs": [],
   "source": [
    "\n",
    "def f(p):\n",
    "    V1, V2, V3 = p\n",
    "    return np.array([0.2*V1-0.2*V2-3, -0.2*V1+0.4*V2+a*np.exp(q*V2/(n*k*T)-1)-0.2*V3,-0.2*V2+0.3*V3])"
   ]
  },
  {
   "cell_type": "code",
   "execution_count": 8,
   "metadata": {},
   "outputs": [],
   "source": [
    "V1, V2, V3 = fsolve(f,(15,6,5))"
   ]
  },
  {
   "cell_type": "code",
   "execution_count": 9,
   "metadata": {},
   "outputs": [
    {
     "name": "stdout",
     "output_type": "stream",
     "text": [
      "V1 = 20.398865279893535, V2=5.398865279893534, V3=3.5992435199290225, error_norm=6.661338147750939e-16\n"
     ]
    }
   ],
   "source": [
    "l2_norm = np.linalg.norm(f((V1, V2, V3)))\n",
    "print(f\"V1 = {V1}, V2={V2}, V3={V3}, error_norm={l2_norm}\")"
   ]
  },
  {
   "cell_type": "code",
   "execution_count": null,
   "metadata": {},
   "outputs": [],
   "source": []
  }
 ],
 "metadata": {
  "kernelspec": {
   "display_name": "Python 3",
   "language": "python",
   "name": "python3"
  },
  "language_info": {
   "codemirror_mode": {
    "name": "ipython",
    "version": 3
   },
   "file_extension": ".py",
   "mimetype": "text/x-python",
   "name": "python",
   "nbconvert_exporter": "python",
   "pygments_lexer": "ipython3",
   "version": "3.8.2"
  }
 },
 "nbformat": 4,
 "nbformat_minor": 4
}
